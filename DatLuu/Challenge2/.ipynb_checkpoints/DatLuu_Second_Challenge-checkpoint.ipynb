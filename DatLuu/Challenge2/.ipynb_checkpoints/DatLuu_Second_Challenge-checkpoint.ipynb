{
 "cells": [
  {
   "cell_type": "code",
   "execution_count": 26,
   "metadata": {},
   "outputs": [],
   "source": [
    "import matplotlib.pyplot as plt\n",
    "import numpy as np\n",
    "import pandas as pd\n",
    "\n",
    "from keras.layers import Dense, GlobalMaxPool1D, Embedding\n",
    "from keras.models import Sequential\n",
    "from keras.preprocessing.sequence import pad_sequences\n",
    "from keras.preprocessing.text import Tokenizer\n",
    "\n",
    "from sklearn.feature_extraction.text import CountVectorizer\n",
    "from sklearn.linear_model import LogisticRegression\n",
    "from sklearn.model_selection import train_test_split"
   ]
  },
  {
   "cell_type": "code",
   "execution_count": 10,
   "metadata": {},
   "outputs": [
    {
     "data": {
      "text/plain": [
       "sentence    Is it supposed to rain nearby my current locat...\n",
       "source                                             GetWeather\n",
       "label                                                       1\n",
       "Name: 2, dtype: object"
      ]
     },
     "execution_count": 10,
     "metadata": {},
     "output_type": "execute_result"
    }
   ],
   "source": [
    "#get data\n",
    "filepath_dict = {'SearchCreativeWork' : 'intent-train-data/SearchCreativeWork.txt',\n",
    "                 'GetWeather' : 'intent-train-data/GetWeather.txt',\n",
    "                 'BookRestaurant' : 'intent-train-data/BookRestaurant.txt',\n",
    "                 'PlayMusic' : 'intent-train-data/PlayMusic.txt',\n",
    "                 'AddToPlaylist' : 'intent-train-data/AddToPlaylist.txt',\n",
    "                 'RateBook' : 'intent-train-data/RateBook.txt',\n",
    "                 'SearchScreeningEvent' : 'intent-train-data/SearchScreeningEvent.txt'}\n",
    "\n",
    "df_list = []\n",
    "label_num = 0\n",
    "for src, filepath in filepath_dict.items():\n",
    "    df = pd.read_csv(filepath, names=['sentence'])\n",
    "    df['source'] = src\n",
    "    df['label'] = label_num\n",
    "    df_list.append(df)\n",
    "    label_num += 1\n",
    "    \n",
    "df = pd.concat(df_list)\n",
    "df.iloc[1956]"
   ]
  },
  {
   "cell_type": "code",
   "execution_count": 28,
   "metadata": {},
   "outputs": [],
   "source": [
    "#preprocessing the data\n",
    "sentences = []\n",
    "label =[]\n",
    "\n",
    "for src in df['source'].unique():\n",
    "    df_src = df[df['source'] == src]\n",
    "    sentences = np.append(sentences, df_src['sentence'].values)\n",
    "    label = np.append(label, df_src['label'].values)"
   ]
  },
  {
   "cell_type": "code",
   "execution_count": 32,
   "metadata": {},
   "outputs": [
    {
     "name": "stdout",
     "output_type": "stream",
     "text": [
      "Score Train: 0.9934305864167713, Score Validation: 0.9768183135323095\n"
     ]
    }
   ],
   "source": [
    "#split train and test\n",
    "x_train, x_test, y_train, y_test = train_test_split(sentences, \n",
    "                                                    label,\n",
    "                                                    test_size=0.25,\n",
    "                                                    random_state=1000)\n",
    "\n",
    "vectorizer = CountVectorizer()\n",
    "vectorizer.fit(x_train)\n",
    "\n",
    "X_train = vectorizer.transform(x_train)\n",
    "X_test = vectorizer.transform(x_test)\n",
    "\n",
    "model = LogisticRegression()\n",
    "model.fit(X_train, y_train)\n",
    "\n",
    "scoreTrain = model.score(X_train, y_train)\n",
    "scoreVal = model.score(X_test, y_test)\n",
    "\n",
    "print(\"Score Train: {}, Score Validation: {}\".format(scoreTrain, scoreVal))"
   ]
  },
  {
   "cell_type": "code",
   "execution_count": null,
   "metadata": {},
   "outputs": [],
   "source": []
  }
 ],
 "metadata": {
  "kernelspec": {
   "display_name": "Python 3",
   "language": "python",
   "name": "python3"
  },
  "language_info": {
   "codemirror_mode": {
    "name": "ipython",
    "version": 3
   },
   "file_extension": ".py",
   "mimetype": "text/x-python",
   "name": "python",
   "nbconvert_exporter": "python",
   "pygments_lexer": "ipython3",
   "version": "3.7.1"
  }
 },
 "nbformat": 4,
 "nbformat_minor": 2
}
