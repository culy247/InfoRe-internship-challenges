{
  "nbformat": 4,
  "nbformat_minor": 0,
  "metadata": {
    "colab": {
      "name": "Dat_Luu_First_Challenge.ipynb",
      "version": "0.3.2",
      "provenance": [],
      "collapsed_sections": [],
      "toc_visible": true
    },
    "kernelspec": {
      "name": "python3",
      "display_name": "Python 3"
    }
  },
  "cells": [
    {
      "metadata": {
        "id": "qDioIab8n0ns",
        "colab_type": "text"
      },
      "cell_type": "markdown",
      "source": [
        "# Connect Dropbox to ggc"
      ]
    },
    {
      "metadata": {
        "id": "2QXuKAPhVnU0",
        "colab_type": "code",
        "outputId": "7e585310-c683-4576-a805-0a0a0fa80269",
        "colab": {
          "base_uri": "https://localhost:8080/",
          "height": 102
        }
      },
      "cell_type": "code",
      "source": [
        "!git clone https://github.com/thatbrguy/Dropbox-Uploader.git"
      ],
      "execution_count": 1,
      "outputs": [
        {
          "output_type": "stream",
          "text": [
            "Cloning into 'Dropbox-Uploader'...\n",
            "remote: Enumerating objects: 951, done.\u001b[K\n",
            "remote: Total 951 (delta 0), reused 0 (delta 0), pack-reused 951\u001b[K\n",
            "Receiving objects: 100% (951/951), 309.20 KiB | 8.14 MiB/s, done.\n",
            "Resolving deltas: 100% (505/505), done.\n"
          ],
          "name": "stdout"
        }
      ]
    },
    {
      "metadata": {
        "id": "IMkFiPXuXhft",
        "colab_type": "code",
        "outputId": "60089eef-ce4c-4455-c5a9-944a2f0dd062",
        "colab": {
          "base_uri": "https://localhost:8080/",
          "height": 34
        }
      },
      "cell_type": "code",
      "source": [
        "%cd Dropbox-Uploader"
      ],
      "execution_count": 2,
      "outputs": [
        {
          "output_type": "stream",
          "text": [
            "/content/Dropbox-Uploader\n"
          ],
          "name": "stdout"
        }
      ]
    },
    {
      "metadata": {
        "id": "yaVLOVsBXy3w",
        "colab_type": "code",
        "colab": {}
      },
      "cell_type": "code",
      "source": [
        "# This line is needed when running dropbox for the first time\n",
        "# !chmod +x dropbox_uploader.sh"
      ],
      "execution_count": 0,
      "outputs": []
    },
    {
      "metadata": {
        "id": "cX5FvYZEX5YV",
        "colab_type": "code",
        "outputId": "5c86dbd0-2139-459c-9ae7-3fd0811373cf",
        "colab": {
          "base_uri": "https://localhost:8080/",
          "height": 292
        }
      },
      "cell_type": "code",
      "source": [
        "!bash dropbox_uploader.sh"
      ],
      "execution_count": 4,
      "outputs": [
        {
          "output_type": "stream",
          "text": [
            "\n",
            " This is the first time you run this script, please follow the instructions:\n",
            "\n",
            " 1) Open the following URL in your Browser, and log in using your account: https://www.dropbox.com/developers/apps\n",
            " 2) Click on \"Create App\", then select \"Dropbox API app\"\n",
            " 3) Now go on with the configuration, choosing the app permissions and access restrictions to your DropBox folder\n",
            " 4) Enter the \"App Name\" that you prefer (e.g. MyUploader128182445029684)\n",
            "\n",
            " Now, click on the \"Create App\" button.\n",
            "\n",
            " When your new App is successfully created, please click on the Generate button\n",
            " under the 'Generated access token' section, then execute the following command:\n",
            "\n",
            " echo \"INPUT_YOUR_ACCESS_TOKEN_HERE\" > token.txt\n",
            "\n"
          ],
          "name": "stdout"
        }
      ]
    },
    {
      "metadata": {
        "id": "Ha8OtoKcYAbS",
        "colab_type": "code",
        "colab": {}
      },
      "cell_type": "code",
      "source": [
        "!echo \"wJ_6mGNSd_AAAAAAAAAAQJrzkjASK_8wmDgYeI_WmkvIDbszvbnfL5qFDN76pHy7\" > token.txt"
      ],
      "execution_count": 0,
      "outputs": []
    },
    {
      "metadata": {
        "id": "LG61odo9Y1Bf",
        "colab_type": "code",
        "outputId": "b7a9ea83-b144-465c-f06a-45ac03c4c690",
        "colab": {
          "base_uri": "https://localhost:8080/",
          "height": 411
        }
      },
      "cell_type": "code",
      "source": [
        "!bash dropbox_uploader.sh"
      ],
      "execution_count": 6,
      "outputs": [
        {
          "output_type": "stream",
          "text": [
            "\n",
            " This is the first time you run this script, please follow the instructions:\n",
            "\n",
            " 1) Open the following URL in your Browser, and log in using your account: https://www.dropbox.com/developers/apps\n",
            " 2) Click on \"Create App\", then select \"Dropbox API app\"\n",
            " 3) Now go on with the configuration, choosing the app permissions and access restrictions to your DropBox folder\n",
            " 4) Enter the \"App Name\" that you prefer (e.g. MyUploader183302751525528)\n",
            "\n",
            " Now, click on the \"Create App\" button.\n",
            "\n",
            " When your new App is successfully created, please click on the Generate button\n",
            " under the 'Generated access token' section, then execute the following command:\n",
            "\n",
            " echo \"INPUT_YOUR_ACCESS_TOKEN_HERE\" > token.txt\n",
            "\n",
            "\n",
            " Found token.txt with access token: wJ_6mGNSd_AAAAAAAAAAQJrzkjASK_8wmDgYeI_WmkvIDbszvbnfL5qFDN76pHy7\n",
            "\n",
            " You can unlink this account if the token is wrong, using:\n",
            " ./dropbox-uploader.sh unlink\n",
            "\n",
            " The configuration has been saved.\n"
          ],
          "name": "stdout"
        }
      ]
    },
    {
      "metadata": {
        "id": "AigcufqSfPuc",
        "colab_type": "code",
        "outputId": "1912c725-46d3-4ab4-c853-74575a75496c",
        "colab": {
          "base_uri": "https://localhost:8080/",
          "height": 34
        }
      },
      "cell_type": "code",
      "source": [
        "! ./dropbox_uploader.sh download dataset.zip"
      ],
      "execution_count": 7,
      "outputs": [
        {
          "output_type": "stream",
          "text": [
            " > Downloading \"/dataset.zip\" to \"/content/Dropbox-Uploader/dataset.zip\"... DONE\n"
          ],
          "name": "stdout"
        }
      ]
    },
    {
      "metadata": {
        "id": "kJIOPNYLE3mZ",
        "colab_type": "text"
      },
      "cell_type": "markdown",
      "source": [
        "#Import extra library region"
      ]
    },
    {
      "metadata": {
        "id": "ZcfDdFgoqGto",
        "colab_type": "code",
        "colab": {
          "base_uri": "https://localhost:8080/",
          "height": 51
        },
        "outputId": "c58c5a20-8ac3-4125-8546-e6894413ec5b"
      },
      "cell_type": "code",
      "source": [
        "import cv2\n",
        "import os\n",
        "import numpy as np\n",
        "import tensorflow as tf\n",
        "import zipfile \n",
        "\n",
        "from importlib import reload\n",
        "\n",
        "from keras import backend as K\n",
        "from keras import optimizers\n",
        "from keras.applications.vgg16 import VGG16\n",
        "from keras.models import Sequential, Model\n",
        "from keras.layers import Dense, Dropout, Activation, Flatten\n",
        "from keras.layers import MaxPooling2D, Conv2D\n",
        "from keras.utils import np_utils\n",
        "\n",
        "from matplotlib import pyplot as plt\n",
        "from sklearn.model_selection import train_test_split\n",
        "\n",
        "#Setting backend to theano\n",
        "def set_keras_backend(backend):\n",
        "\n",
        "    if K.backend() != backend:\n",
        "        os.environ['KERAS_BACKEND'] = backend\n",
        "        reload(K)\n",
        "        assert K.backend() == backend\n",
        "\n",
        "set_keras_backend(\"theano\")"
      ],
      "execution_count": 8,
      "outputs": [
        {
          "output_type": "stream",
          "text": [
            "Using TensorFlow backend.\n",
            "Using Theano backend.\n"
          ],
          "name": "stderr"
        }
      ]
    },
    {
      "metadata": {
        "id": "R4JzaCNeEs6q",
        "colab_type": "text"
      },
      "cell_type": "markdown",
      "source": [
        "# Unzipping file"
      ]
    },
    {
      "metadata": {
        "id": "AB9HTqh3FQha",
        "colab_type": "code",
        "colab": {}
      },
      "cell_type": "code",
      "source": [
        "src_path = './dataset.zip'\n",
        "extract_path = './dataset'\n",
        "\n",
        "zip_ref = zipfile.ZipFile(src_path, 'r')\n",
        "zip_ref.extractall(extract_path)\n",
        "zip_ref.close()"
      ],
      "execution_count": 0,
      "outputs": []
    },
    {
      "metadata": {
        "id": "FtAF2cN3G1V-",
        "colab_type": "code",
        "outputId": "8358f5bb-573e-438c-96e8-2b387a33e789",
        "colab": {
          "base_uri": "https://localhost:8080/",
          "height": 34
        }
      },
      "cell_type": "code",
      "source": [
        "#access to data's folder\n",
        "%cd /content/Dropbox-Uploader/dataset\n"
      ],
      "execution_count": 10,
      "outputs": [
        {
          "output_type": "stream",
          "text": [
            "/content/Dropbox-Uploader/dataset\n"
          ],
          "name": "stdout"
        }
      ]
    },
    {
      "metadata": {
        "id": "bySPyP9IIoQT",
        "colab_type": "code",
        "colab": {}
      },
      "cell_type": "code",
      "source": [
        "#access to unzip folder \n",
        "dog_list = ['bullmastiff', 'chowchow', 'pug', 'maltese', 'huskysibir',\n",
        "           'dachshund', 'dalmatian', 'corgi', 'chihuahua', 'yorkshire']\n",
        "\n",
        "#label it\n",
        "train_sample = []\n",
        "train_label = []\n",
        "\n",
        "#get data and fit to array\n",
        "for index in range(len(dog_list)):\n",
        "  dogname_path = './' + dog_list[index]\n",
        "  \n",
        "  for img_name in os.listdir(dogname_path):\n",
        "    img_path = dogname_path + '/' + img_name\n",
        "    train_sample.append(cv2.resize(cv2.imread(img_path), (224,224)))\n",
        "    train_label.append(index)"
      ],
      "execution_count": 0,
      "outputs": []
    },
    {
      "metadata": {
        "id": "elFizCBEsQKU",
        "colab_type": "text"
      },
      "cell_type": "markdown",
      "source": [
        "# Preprocess the data"
      ]
    },
    {
      "metadata": {
        "id": "H0MTTAm3RTZh",
        "colab_type": "code",
        "colab": {}
      },
      "cell_type": "code",
      "source": [
        "train_sample, valid_sample, train_label, valid_label = train_test_split(train_sample, train_label, test_size=0.2, random_state=42)\n",
        "\n",
        "train_sample = np.array(train_sample)\n",
        "train_label = np.array(train_label)\n",
        "valid_sample = np.array(valid_sample)\n",
        "valid_label = np.array(valid_label)\n",
        "\n",
        "train_sample = train_sample.reshape(train_sample.shape[0], 224, 224, 3)\n",
        "valid_sample = valid_sample.reshape(valid_sample.shape[0], 224, 224, 3)\n",
        "\n",
        "train_sample = train_sample.astype('float32')\n",
        "valid_sample = valid_sample.astype('float32')\n",
        "\n",
        "train_sample /= 255\n",
        "valid_sample /= 255\n",
        "\n",
        "train_label = np_utils.to_categorical(train_label, 10)\n",
        "valid_label = np_utils.to_categorical(valid_label, 10)"
      ],
      "execution_count": 0,
      "outputs": []
    },
    {
      "metadata": {
        "id": "pZWI6dDTQhaY",
        "colab_type": "code",
        "outputId": "10cc7dfa-09ec-44c0-e6c2-b300504ae137",
        "colab": {
          "base_uri": "https://localhost:8080/",
          "height": 367
        }
      },
      "cell_type": "code",
      "source": [
        "#test image data\n",
        "k = train_sample.reshape(train_sample.shape[0], 224, 224, 3)\n",
        "plt.imshow(cv2.cvtColor(train_sample[666], cv2.COLOR_BGR2RGB))\n",
        "print(train_label[666])"
      ],
      "execution_count": 13,
      "outputs": [
        {
          "output_type": "stream",
          "text": [
            "[0. 0. 0. 0. 0. 0. 0. 1. 0. 0.]\n"
          ],
          "name": "stdout"
        },
        {
          "output_type": "display_data",
          "data": {
            "image/png": "[encoded data removed]",
            "text/plain": [
              "<Figure size 576x396 with 1 Axes>"
            ]
          },
          "metadata": {
            "tags": []
          }
        }
      ]
    },
    {
      "metadata": {
        "id": "taN39w-SCH8y",
        "colab_type": "text"
      },
      "cell_type": "markdown",
      "source": [
        "#Self-Building Model Architecture"
      ]
    },
    {
      "metadata": {
        "id": "VluxAHtgdopA",
        "colab_type": "code",
        "colab": {}
      },
      "cell_type": "code",
      "source": [
        "# model = Sequential()\n",
        "# model.add(Conv2D(32, (3, 3), input_shape=(224, 224, 3)))\n",
        "# model.add(Activation('relu'))\n",
        "# model.add(MaxPooling2D(pool_size=(2, 2)))\n",
        "\n",
        "# model.add(Conv2D(32, (3, 3)))\n",
        "# model.add(Activation('relu'))\n",
        "# model.add(MaxPooling2D(pool_size=(2, 2)))\n",
        "\n",
        "# model.add(Conv2D(64, (3, 3)))\n",
        "# model.add(Activation('relu'))\n",
        "# model.add(MaxPooling2D(pool_size=(2, 2)))\n",
        "# model.add(Dropout(0.2))\n",
        "\n",
        "# model.add(Flatten())\n",
        "# model.add(Dense(4096))\n",
        "# model.add(Activation('relu'))\n",
        "# model.add(Dropout(0.5))\n",
        "\n",
        "# model.add(Dense(512))\n",
        "# model.add(Activation('relu'))\n",
        "# model.add(Dense(10))\n",
        "# model.add(Activation('softmax'))\n"
      ],
      "execution_count": 0,
      "outputs": []
    },
    {
      "metadata": {
        "id": "kr9bUTrlEI5D",
        "colab_type": "code",
        "colab": {}
      },
      "cell_type": "code",
      "source": [
        "# model.compile(loss='categorical_crossentropy',\n",
        "#               optimizer='adam',\n",
        "#               metrics=['accuracy'])"
      ],
      "execution_count": 0,
      "outputs": []
    },
    {
      "metadata": {
        "id": "X-lwthj7E-Hj",
        "colab_type": "code",
        "colab": {}
      },
      "cell_type": "code",
      "source": [
        "# model.summary()"
      ],
      "execution_count": 0,
      "outputs": []
    },
    {
      "metadata": {
        "id": "Ie9CYjLPeMBb",
        "colab_type": "text"
      },
      "cell_type": "markdown",
      "source": [
        "**Saving checkpoint  - optional** \n",
        "\n",
        "This method is unable to used due to low disk on drive"
      ]
    },
    {
      "metadata": {
        "id": "JCiLrGM2FPdc",
        "colab_type": "code",
        "colab": {}
      },
      "cell_type": "code",
      "source": [
        "# create checkpoint path\n",
        "# checkpoint_path = \"training_1/cp.ckpt\"\n",
        "# checkpoint_dir = os.path.dirname(checkpoint_path)\n",
        "\n",
        "# # Create checkpoint callback\n",
        "# cp_callback = tf.keras.callbacks.ModelCheckpoint(checkpoint_path, \n",
        "#                                                  save_weights_only=True,\n",
        "#                                                  verbose=1)\n",
        "\n",
        "# model.fit(train_sample,\n",
        "#           train_label,\n",
        "#           batch_size=32,\n",
        "#           epochs=10,\n",
        "#           validation_data=(valid_sample, valid_label),\n",
        "#           shuffle=True,\n",
        "#           verbose=1,\n",
        "#           callbacks = [cp_callback])"
      ],
      "execution_count": 0,
      "outputs": []
    },
    {
      "metadata": {
        "id": "1PgzQDcIFE_H",
        "colab_type": "text"
      },
      "cell_type": "markdown",
      "source": [
        "**Fitting with common method**"
      ]
    },
    {
      "metadata": {
        "id": "leLonKqJd9ex",
        "colab_type": "code",
        "cellView": "both",
        "colab": {}
      },
      "cell_type": "code",
      "source": [
        "# model.fit(train_sample,\n",
        "#           train_label,\n",
        "#           batch_size=32,\n",
        "#           epochs=10,\n",
        "#           validation_data=(valid_sample, valid_label),\n",
        "#           shuffle=True,\n",
        "#           verbose=1)"
      ],
      "execution_count": 0,
      "outputs": []
    },
    {
      "metadata": {
        "id": "ZmPcpUld69XA",
        "colab_type": "text"
      },
      "cell_type": "markdown",
      "source": [
        "# VGG16 model architecture\n",
        "\n"
      ]
    },
    {
      "metadata": {
        "id": "ipMszLEWGeZE",
        "colab_type": "code",
        "outputId": "ba3ae922-97b1-4c4a-ed3c-cbcd97ff50de",
        "colab": {
          "base_uri": "https://localhost:8080/",
          "height": 836
        }
      },
      "cell_type": "code",
      "source": [
        "sample_model = VGG16(weights='imagenet', input_shape=(224,224,3), include_top=False)\n",
        "sample_model.summary()"
      ],
      "execution_count": 18,
      "outputs": [
        {
          "output_type": "stream",
          "text": [
            "Downloading data from https://github.com/fchollet/deep-learning-models/releases/download/v0.1/vgg16_weights_tf_dim_ordering_tf_kernels_notop.h5\n",
            "58892288/58889256 [==============================] - 1s 0us/step\n",
            "_________________________________________________________________\n",
            "Layer (type)                 Output Shape              Param #   \n",
            "=================================================================\n",
            "input_1 (InputLayer)         (None, 224, 224, 3)       0         \n",
            "_________________________________________________________________\n",
            "block1_conv1 (Conv2D)        (None, 224, 224, 64)      1792      \n",
            "_________________________________________________________________\n",
            "block1_conv2 (Conv2D)        (None, 224, 224, 64)      36928     \n",
            "_________________________________________________________________\n",
            "block1_pool (MaxPooling2D)   (None, 112, 112, 64)      0         \n",
            "_________________________________________________________________\n",
            "block2_conv1 (Conv2D)        (None, 112, 112, 128)     73856     \n",
            "_________________________________________________________________\n",
            "block2_conv2 (Conv2D)        (None, 112, 112, 128)     147584    \n",
            "_________________________________________________________________\n",
            "block2_pool (MaxPooling2D)   (None, 56, 56, 128)       0         \n",
            "_________________________________________________________________\n",
            "block3_conv1 (Conv2D)        (None, 56, 56, 256)       295168    \n",
            "_________________________________________________________________\n",
            "block3_conv2 (Conv2D)        (None, 56, 56, 256)       590080    \n",
            "_________________________________________________________________\n",
            "block3_conv3 (Conv2D)        (None, 56, 56, 256)       590080    \n",
            "_________________________________________________________________\n",
            "block3_pool (MaxPooling2D)   (None, 28, 28, 256)       0         \n",
            "_________________________________________________________________\n",
            "block4_conv1 (Conv2D)        (None, 28, 28, 512)       1180160   \n",
            "_________________________________________________________________\n",
            "block4_conv2 (Conv2D)        (None, 28, 28, 512)       2359808   \n",
            "_________________________________________________________________\n",
            "block4_conv3 (Conv2D)        (None, 28, 28, 512)       2359808   \n",
            "_________________________________________________________________\n",
            "block4_pool (MaxPooling2D)   (None, 14, 14, 512)       0         \n",
            "_________________________________________________________________\n",
            "block5_conv1 (Conv2D)        (None, 14, 14, 512)       2359808   \n",
            "_________________________________________________________________\n",
            "block5_conv2 (Conv2D)        (None, 14, 14, 512)       2359808   \n",
            "_________________________________________________________________\n",
            "block5_conv3 (Conv2D)        (None, 14, 14, 512)       2359808   \n",
            "_________________________________________________________________\n",
            "block5_pool (MaxPooling2D)   (None, 7, 7, 512)         0         \n",
            "=================================================================\n",
            "Total params: 14,714,688\n",
            "Trainable params: 14,714,688\n",
            "Non-trainable params: 0\n",
            "_________________________________________________________________\n"
          ],
          "name": "stdout"
        }
      ]
    },
    {
      "metadata": {
        "id": "J85nupm-7ANL",
        "colab_type": "code",
        "outputId": "bff6040c-0eee-40a0-c667-8853462fe198",
        "colab": {
          "base_uri": "https://localhost:8080/",
          "height": 816
        }
      },
      "cell_type": "code",
      "source": [
        "#add extra layers to fit with the input\n",
        "extra_model = Sequential()\n",
        "extra_model.add(Flatten(input_shape=sample_model.output_shape[1:]))\n",
        "extra_model.add(Dense(1024, activation='relu'))\n",
        "extra_model.add(Dense(256, activation='relu'))\n",
        "extra_model.add(Dense(10, activation='softmax'))\n",
        "\n",
        "#make a funsion \n",
        "model = Model(inputs=sample_model.input, outputs=extra_model(sample_model.output))\n",
        "model.compile(loss='categorical_crossentropy',\n",
        "              optimizer=optimizers.SGD(lr=1e-4, momentum=0.9),\n",
        "              metrics=['accuracy'])\n",
        "model.summary()"
      ],
      "execution_count": 21,
      "outputs": [
        {
          "output_type": "stream",
          "text": [
            "_________________________________________________________________\n",
            "Layer (type)                 Output Shape              Param #   \n",
            "=================================================================\n",
            "input_1 (InputLayer)         (None, 224, 224, 3)       0         \n",
            "_________________________________________________________________\n",
            "block1_conv1 (Conv2D)        (None, 224, 224, 64)      1792      \n",
            "_________________________________________________________________\n",
            "block1_conv2 (Conv2D)        (None, 224, 224, 64)      36928     \n",
            "_________________________________________________________________\n",
            "block1_pool (MaxPooling2D)   (None, 112, 112, 64)      0         \n",
            "_________________________________________________________________\n",
            "block2_conv1 (Conv2D)        (None, 112, 112, 128)     73856     \n",
            "_________________________________________________________________\n",
            "block2_conv2 (Conv2D)        (None, 112, 112, 128)     147584    \n",
            "_________________________________________________________________\n",
            "block2_pool (MaxPooling2D)   (None, 56, 56, 128)       0         \n",
            "_________________________________________________________________\n",
            "block3_conv1 (Conv2D)        (None, 56, 56, 256)       295168    \n",
            "_________________________________________________________________\n",
            "block3_conv2 (Conv2D)        (None, 56, 56, 256)       590080    \n",
            "_________________________________________________________________\n",
            "block3_conv3 (Conv2D)        (None, 56, 56, 256)       590080    \n",
            "_________________________________________________________________\n",
            "block3_pool (MaxPooling2D)   (None, 28, 28, 256)       0         \n",
            "_________________________________________________________________\n",
            "block4_conv1 (Conv2D)        (None, 28, 28, 512)       1180160   \n",
            "_________________________________________________________________\n",
            "block4_conv2 (Conv2D)        (None, 28, 28, 512)       2359808   \n",
            "_________________________________________________________________\n",
            "block4_conv3 (Conv2D)        (None, 28, 28, 512)       2359808   \n",
            "_________________________________________________________________\n",
            "block4_pool (MaxPooling2D)   (None, 14, 14, 512)       0         \n",
            "_________________________________________________________________\n",
            "block5_conv1 (Conv2D)        (None, 14, 14, 512)       2359808   \n",
            "_________________________________________________________________\n",
            "block5_conv2 (Conv2D)        (None, 14, 14, 512)       2359808   \n",
            "_________________________________________________________________\n",
            "block5_conv3 (Conv2D)        (None, 14, 14, 512)       2359808   \n",
            "_________________________________________________________________\n",
            "block5_pool (MaxPooling2D)   (None, 7, 7, 512)         0         \n",
            "_________________________________________________________________\n",
            "sequential_2 (Sequential)    (None, 10)                25956106  \n",
            "=================================================================\n",
            "Total params: 40,670,794\n",
            "Trainable params: 40,670,794\n",
            "Non-trainable params: 0\n",
            "_________________________________________________________________\n"
          ],
          "name": "stdout"
        }
      ]
    },
    {
      "metadata": {
        "id": "vVkcNtev85W6",
        "colab_type": "code",
        "outputId": "04f7bdd3-b457-488f-c2a5-8a2efd0f40ec",
        "colab": {
          "base_uri": "https://localhost:8080/",
          "height": 105
        }
      },
      "cell_type": "code",
      "source": [
        "#Fiting model\n",
        "model.fit(train_sample,\n",
        "          train_label,\n",
        "          batch_size=32,\n",
        "          epochs=4,\n",
        "          validation_data=(valid_sample, valid_label),\n",
        "          shuffle=True,\n",
        "          verbose=1)"
      ],
      "execution_count": 0,
      "outputs": [
        {
          "output_type": "stream",
          "text": [
            "WARNING (theano.tensor.blas): We did not find a dynamic library in the library_dir of the library we use for blas. If you use ATLAS, make sure to compile it with dynamics library.\n"
          ],
          "name": "stderr"
        },
        {
          "output_type": "stream",
          "text": [
            "Train on 9708 samples, validate on 2427 samples\n",
            "Epoch 1/4\n",
            "6336/9708 [==================>...........] - ETA: 2:13:55 - loss: 1.6215 - acc: 0.4446"
          ],
          "name": "stdout"
        }
      ]
    },
    {
      "metadata": {
        "id": "QR60J8BOFVt6",
        "colab_type": "code",
        "colab": {}
      },
      "cell_type": "code",
      "source": [
        ""
      ],
      "execution_count": 0,
      "outputs": []
    }
  ]
}